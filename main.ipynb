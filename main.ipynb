{
 "cells": [
  {
   "cell_type": "code",
   "execution_count": 53,
   "metadata": {},
   "outputs": [],
   "source": [
    "import numpy as np\n",
    "import pandas as pd \n",
    "import matplotlib.pyplot as plt \n",
    "fs = \"E:\\\\tamil to eng translation\\Machine-Translation\\data\\\\ta.txt\""
   ]
  },
  {
   "cell_type": "code",
   "execution_count": null,
   "metadata": {},
   "outputs": [],
   "source": [
    "from datasets import load_dataset\n",
    "tamil_data = load_dataset(\"E:\\\\tamil to eng translation\\Machine-Translation\\data\\english\")\n",
    "#english_data = load_dataset(\"E:\\\\tamil to eng translation\\Machine-Translation\\data\\\\tamil\")"
   ]
  },
  {
   "cell_type": "code",
   "execution_count": 1,
   "metadata": {},
   "outputs": [
    {
     "name": "stderr",
     "output_type": "stream",
     "text": [
      "c:\\coda\\lib\\site-packages\\dask\\dataframe\\io\\csv.py:611: ParserWarning: Falling back to the 'python' engine because the 'c' engine does not support regex separators (separators > 1 char and different from '\\s+' are interpreted as regex); you can avoid this warning by specifying engine='python'.\n",
      "  head = reader(BytesIO(b_sample), nrows=sample_rows, **head_kwargs)\n",
      "c:\\coda\\lib\\site-packages\\dask\\dataframe\\io\\csv.py:611: FutureWarning: The error_bad_lines argument has been deprecated and will be removed in a future version. Use on_bad_lines in the future.\n",
      "\n",
      "\n",
      "  head = reader(BytesIO(b_sample), nrows=sample_rows, **head_kwargs)\n"
     ]
    }
   ],
   "source": [
    "import dask.dataframe as dd\n",
    "df = dd.read_csv(\"E:\\\\tamil to eng translation\\Machine-Translation\\data\\english\\en.txt\",sep='delimiter', header=None,error_bad_lines=False)"
   ]
  },
  {
   "cell_type": "code",
   "execution_count": 54,
   "metadata": {},
   "outputs": [
    {
     "name": "stderr",
     "output_type": "stream",
     "text": [
      "C:\\Users\\shuga\\AppData\\Local\\Temp\\ipykernel_30412\\2619646617.py:1: ParserWarning: Falling back to the 'python' engine because the 'c' engine does not support regex separators (separators > 1 char and different from '\\s+' are interpreted as regex); you can avoid this warning by specifying engine='python'.\n",
      "  d = pd.read_csv(\"E:\\\\tamil to eng translation\\Machine-Translation\\data\\english\\en.txt\",sep='delimiter', header=None,error_bad_lines=False)\n",
      "C:\\Users\\shuga\\AppData\\Local\\Temp\\ipykernel_30412\\2619646617.py:1: FutureWarning: The error_bad_lines argument has been deprecated and will be removed in a future version. Use on_bad_lines in the future.\n",
      "\n",
      "\n",
      "  d = pd.read_csv(\"E:\\\\tamil to eng translation\\Machine-Translation\\data\\english\\en.txt\",sep='delimiter', header=None,error_bad_lines=False)\n"
     ]
    }
   ],
   "source": [
    "d = pd.read_csv(\"E:\\\\tamil to eng translation\\Machine-Translation\\data\\english\\en.txt\",sep='delimiter', header=None,error_bad_lines=False)"
   ]
  },
  {
   "cell_type": "code",
   "execution_count": 51,
   "metadata": {},
   "outputs": [
    {
     "name": "stdout",
     "output_type": "stream",
     "text": [
      "       image_id\n",
      "0  000011a64c74\n",
      "0  2a994d8baa53\n",
      "0  5541944153c9\n",
      "0  7fe72aa12c94\n",
      "0  aaa0ca76de63\n",
      "0  d53ad8486ea4\n"
     ]
    }
   ],
   "source": [
    "# df.head()\n",
    "print(df.loc[0,[\"image_id\"]].compute())"
   ]
  }
 ],
 "metadata": {
  "kernelspec": {
   "display_name": "Python 3",
   "language": "python",
   "name": "python3"
  },
  "language_info": {
   "codemirror_mode": {
    "name": "ipython",
    "version": 3
   },
   "file_extension": ".py",
   "mimetype": "text/x-python",
   "name": "python",
   "nbconvert_exporter": "python",
   "pygments_lexer": "ipython3",
   "version": "3.9.12"
  },
  "orig_nbformat": 4
 },
 "nbformat": 4,
 "nbformat_minor": 2
}
